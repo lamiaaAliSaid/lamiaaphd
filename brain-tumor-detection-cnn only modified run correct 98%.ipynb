{
 "cells": [
  {
   "cell_type": "code",
   "execution_count": 1,
   "metadata": {
    "_cell_guid": "b1076dfc-b9ad-4769-8c92-a6c4dae69d19",
    "_uuid": "8f2839f25d086af736a60e9eeb907d3b93b6e0e5"
   },
   "outputs": [
    {
     "name": "stderr",
     "output_type": "stream",
     "text": [
      "Using TensorFlow backend.\n"
     ]
    }
   ],
   "source": [
    "\n",
    "import numpy as np # linear algebra\n",
    "import pandas as pd # data processing, CSV file I/O (e.g. pd.read_csv)\n",
    "import math\n",
    "import cv2\n",
    "import matplotlib.pyplot as plt\n",
    "import os\n",
    "import seaborn as sns\n",
    "import umap\n",
    "from PIL import Image\n",
    "from scipy import misc\n",
    "from os import listdir\n",
    "from os.path import isfile, join\n",
    "import numpy as np\n",
    "from scipy import misc\n",
    "from random import shuffle\n",
    "from collections import Counter\n",
    "import matplotlib.pyplot as plt\n",
    "from sklearn.decomposition import PCA\n",
    "from sklearn.manifold import TSNE\n",
    "import tensorflow as tf\n",
    "from keras.models import Sequential\n",
    "from keras.layers import Conv2D, MaxPooling2D\n",
    "from keras.layers import Activation, Dropout, Flatten, Dense\n",
    "from keras.utils.np_utils import to_categorical"
   ]
  },
  {
   "cell_type": "code",
   "execution_count": 42,
   "metadata": {
    "_cell_guid": "79c7e3d0-c299-4dcb-8224-4455121ee9b0",
    "_uuid": "d629ff2d2480ee46fbb7e2d37f6b5fab8052498a"
   },
   "outputs": [],
   "source": [
    "#os.chdir(\"./brain-mri-images-for-brain-tumor-detection/\")\n"
   ]
  },
  {
   "cell_type": "code",
   "execution_count": 10,
   "metadata": {},
   "outputs": [
    {
     "data": {
      "image/png": "[encoded data removed]",
      "text/plain": [
       "<PIL.Image.Image image mode=RGB size=128x128 at 0x2A12C0B0C48>"
      ]
     },
     "execution_count": 10,
     "metadata": {},
     "output_type": "execute_result"
    }
   ],
   "source": [
    "im =Image.open('./brain_tumor_dataset/yes/Y1.jpg').resize((128,128))\n",
    "im"
   ]
  },
  {
   "cell_type": "code",
   "execution_count": 9,
   "metadata": {},
   "outputs": [],
   "source": [
    "yes=os.listdir('./brain_tumor_dataset/yes')\n",
    "no=os.listdir('./brain_tumor_dataset/no')"
   ]
  },
  {
   "cell_type": "code",
   "execution_count": 15,
   "metadata": {},
   "outputs": [
    {
     "data": {
      "text/plain": [
       "True"
      ]
     },
     "execution_count": 15,
     "metadata": {},
     "output_type": "execute_result"
    }
   ],
   "source": [
    "data=np.concatenate([yes,no])\n",
    "len(data)==len(yes)+len(no)"
   ]
  },
  {
   "cell_type": "code",
   "execution_count": 16,
   "metadata": {},
   "outputs": [
    {
     "data": {
      "text/plain": [
       "True"
      ]
     },
     "execution_count": 16,
     "metadata": {},
     "output_type": "execute_result"
    }
   ],
   "source": [
    "target_x=np.full(len(yes),1)\n",
    "target_y=np.full(len(no),0)\n",
    "data_target=np.concatenate([target_x,target_y])\n",
    "len(data_target)==len(target_x)+len(target_y)"
   ]
  },
  {
   "cell_type": "code",
   "execution_count": 17,
   "metadata": {},
   "outputs": [
    {
     "data": {
      "text/plain": [
       "True"
      ]
     },
     "execution_count": 17,
     "metadata": {},
     "output_type": "execute_result"
    }
   ],
   "source": [
    "len(data_target)==len(data)"
   ]
  },
  {
   "cell_type": "code",
   "execution_count": 18,
   "metadata": {},
   "outputs": [
    {
     "data": {
      "text/plain": [
       "array([1, 1, 1, 1, 1, 1, 1, 1, 1, 1, 1, 1, 1, 1, 1, 1, 1, 1, 1, 1, 1, 1,\n",
       "       1, 1, 1, 1, 1, 1, 1, 1, 1, 1, 1, 1, 1, 1, 1, 1, 1, 1, 1, 1, 1, 1,\n",
       "       1, 1, 1, 1, 1, 1, 1, 1, 1, 1, 1, 1, 1, 1, 1, 1, 1, 1, 1, 1, 1, 1,\n",
       "       1, 1, 1, 1, 1, 1, 1, 1, 1, 1, 1, 1, 1, 1, 1, 1, 1, 1, 1, 1, 1, 1,\n",
       "       1, 1, 1, 1, 1, 1, 1, 1, 1, 1, 1, 1, 1, 1, 1, 1, 1, 1, 1, 1, 1, 1,\n",
       "       1, 1, 1, 1, 1, 1, 1, 1, 1, 1, 1, 1, 1, 1, 1, 1, 1, 1, 1, 1, 1, 1,\n",
       "       1, 1, 1, 1, 1, 1, 1, 1, 1, 1, 1, 1, 1, 1, 1, 1, 1, 1, 1, 1, 1, 1,\n",
       "       1, 0, 0, 0, 0, 0, 0, 0, 0, 0, 0, 0, 0, 0, 0, 0, 0, 0, 0, 0, 0, 0,\n",
       "       0, 0, 0, 0, 0, 0, 0, 0, 0, 0, 0, 0, 0, 0, 0, 0, 0, 0, 0, 0, 0, 0,\n",
       "       0, 0, 0, 0, 0, 0, 0, 0, 0, 0, 0, 0, 0, 0, 0, 0, 0, 0, 0, 0, 0, 0,\n",
       "       0, 0, 0, 0, 0, 0, 0, 0, 0, 0, 0, 0, 0, 0, 0, 0, 0, 0, 0, 0, 0, 0,\n",
       "       0, 0, 0, 0, 0, 0, 0, 0, 0, 0, 0])"
      ]
     },
     "execution_count": 18,
     "metadata": {},
     "output_type": "execute_result"
    }
   ],
   "source": [
    "data_target"
   ]
  },
  {
   "cell_type": "code",
   "execution_count": 19,
   "metadata": {},
   "outputs": [
    {
     "data": {
      "text/plain": [
       "array(['Y1.jpg', 'Y10.jpg', 'Y100.JPG', 'Y101.jpg', 'Y102.jpg',\n",
       "       'Y103.jpg', 'Y104.jpg', 'Y105.jpg', 'Y106.jpg', 'Y107.jpg',\n",
       "       'Y108.jpg', 'Y109.JPG', 'Y11.jpg', 'Y111.JPG', 'Y112.JPG',\n",
       "       'Y113.JPG', 'Y114.JPG', 'Y115.JPG', 'Y116.JPG', 'Y117.JPG',\n",
       "       'Y12.jpg', 'Y120.JPG', 'Y13.jpg', 'Y14.jpg', 'Y146.JPG',\n",
       "       'Y147.JPG', 'Y148.JPG', 'Y15.jpg', 'Y153.jpg', 'Y154.jpg',\n",
       "       'Y155.JPG', 'Y156.JPG', 'Y157.JPG', 'Y158.JPG', 'Y159.JPG',\n",
       "       'Y16.JPG', 'Y160.JPG', 'Y161.JPG', 'Y162.jpg', 'Y163.JPG',\n",
       "       'Y164.JPG', 'Y165.JPG', 'Y166.JPG', 'Y167.JPG', 'Y168.jpg',\n",
       "       'Y169.jpg', 'Y17.jpg', 'Y170.JPG', 'Y18.JPG', 'Y180.jpg',\n",
       "       'Y181.jpg', 'Y182.JPG', 'Y183.jpg', 'Y184.JPG', 'Y185.jpg',\n",
       "       'Y186.jpg', 'Y187.jpg', 'Y188.jpg', 'Y19.JPG', 'Y192.JPG',\n",
       "       'Y193.JPG', 'Y194.jpg', 'Y195.JPG', 'Y2.jpg', 'Y20.jpg', 'Y21.jpg',\n",
       "       'Y22.jpg', 'Y23.JPG', 'Y24.jpg', 'Y242.JPG', 'Y243.JPG',\n",
       "       'Y244.JPG', 'Y245.jpg', 'Y246.JPG', 'Y247.JPG', 'Y248.JPG',\n",
       "       'Y249.JPG', 'Y25.jpg', 'Y250.jpg', 'Y251.JPG', 'Y252.jpg',\n",
       "       'Y253.JPG', 'Y254.jpg', 'Y255.JPG', 'Y256.JPG', 'Y257.jpg',\n",
       "       'Y258.JPG', 'Y259.JPG', 'Y26.jpg', 'Y27.jpg', 'Y28.jpg', 'Y29.jpg',\n",
       "       'Y3.jpg', 'Y30.jpg', 'Y31.jpg', 'Y32.jpg', 'Y33.jpg', 'Y34.jpg',\n",
       "       'Y35.jpg', 'Y36.JPG', 'Y37.jpg', 'Y38.jpg', 'Y39.jpg', 'Y4.jpg',\n",
       "       'Y40.JPG', 'Y41.jpg', 'Y42.jpg', 'Y44.JPG', 'Y45.JPG', 'Y46.jpg',\n",
       "       'Y47.JPG', 'Y49.JPG', 'Y50.JPG', 'Y51.jpg', 'Y52.jpg', 'Y53.jpg',\n",
       "       'Y54.jpg', 'Y55.jpg', 'Y56.jpg', 'Y58.JPG', 'Y59.JPG', 'Y6.jpg',\n",
       "       'Y60.jpg', 'Y61.jpg', 'Y62.jpg', 'Y65.JPG', 'Y66.JPG', 'Y67.JPG',\n",
       "       'Y69.jpg', 'Y7.jpg', 'Y70.jpg', 'Y71.JPG', 'Y73.jpg', 'Y74.jpg',\n",
       "       'Y75.JPG', 'Y76.jpg', 'Y77.jpg', 'Y78.jpg', 'Y79.jpg', 'Y8.jpg',\n",
       "       'Y81.jpg', 'Y82.jpg', 'Y85.JPG', 'Y86.JPG', 'Y89.JPG', 'Y9.jpg',\n",
       "       'Y90.jpg', 'Y91.jpg', 'Y92.jpg', 'Y92.png', 'Y95.jpg', 'Y96.jpg',\n",
       "       'Y97.JPG', 'Y98.JPG', 'Y99.JPG', '1 no.jpeg', '10 no.jpg',\n",
       "       '11 no.jpg', '12 no.jpg', '13 no.jpg', '14 no.jpg', '15 no.jpg',\n",
       "       '17 no.jpg', '18 no.jpg', '19 no.jpg', '2 no.jpeg', '20 no.jpg',\n",
       "       '21 no.jpg', '22 no.jpg', '23 no.jpg', '24 no.jpg', '25 no.jpg',\n",
       "       '26 no.jpg', '27 no.jpg', '28 no.jpg', '29 no.jpg', '3 no.jpg',\n",
       "       '30 no.jpg', '31 no.jpg', '32 no.jpg', '33 no.jpg', '34 no.jpg',\n",
       "       '35 no.jpg', '36 no.jpg', '37 no.jpg', '38 no.jpg', '39 no.jpg',\n",
       "       '4 no.jpg', '40 no.jpg', '41 no.jpg', '42 no.jpg', '43 no.jpg',\n",
       "       '44no.jpg', '45 no.jpg', '46 no.jpg', '47 no.jpg', '48 no.jpeg',\n",
       "       '49 no.jpg', '5 no.jpg', '50 no.jpg', '6 no.jpg', '7 no.jpg',\n",
       "       '8 no.jpg', '9 no.jpg', 'N1.JPG', 'N11.jpg', 'N15.jpg', 'N16.jpg',\n",
       "       'N17.jpg', 'N19.JPG', 'N2.JPG', 'N20.JPG', 'N21.jpg', 'N22.JPG',\n",
       "       'N26.JPG', 'N3.jpg', 'N5.jpg', 'N6.jpg', 'no 1.jpg', 'no 10.jpg',\n",
       "       'no 100.jpg', 'no 2.jpg', 'no 3.jpg', 'no 4.jpg', 'no 5.jpeg',\n",
       "       'no 6.jpg', 'no 7.jpeg', 'no 8.jpg', 'no 89.jpg', 'no 9.png',\n",
       "       'no 90.jpg', 'no 91.jpeg', 'no 92.jpg', 'no 923.jpg', 'no 94.jpg',\n",
       "       'no 95.jpg', 'no 96.jpg', 'no 97.jpg', 'no 98.jpg', 'no 99.jpg',\n",
       "       'no.jpg', 'No11.jpg', 'No12.jpg', 'No13.jpg', 'No14.jpg',\n",
       "       'No15.jpg', 'No16.jpg', 'No17.jpg', 'No18.jpg', 'No19.jpg',\n",
       "       'No20.jpg', 'No21.jpg', 'No22.jpg'], dtype='<U10')"
      ]
     },
     "execution_count": 19,
     "metadata": {},
     "output_type": "execute_result"
    }
   ],
   "source": [
    "data"
   ]
  },
  {
   "cell_type": "code",
   "execution_count": 21,
   "metadata": {},
   "outputs": [],
   "source": [
    "yes_values=os.listdir('./brain_tumor_dataset/yes')\n",
    "no_values=os.listdir('./brain_tumor_dataset/no')"
   ]
  },
  {
   "cell_type": "code",
   "execution_count": 23,
   "metadata": {},
   "outputs": [],
   "source": [
    "X_data =[]\n",
    "for file in yes_values:\n",
    "    #face = misc.imread('../input/brain_tumor_dataset/yes/'+file)\n",
    "    img = cv2.imread('./brain_tumor_dataset/yes/'+file)\n",
    "    face = cv2.resize(img, (32, 32) )\n",
    "    (b, g, r)=cv2.split(face) \n",
    "    img=cv2.merge([r,g,b])\n",
    "    X_data.append(img)"
   ]
  },
  {
   "cell_type": "code",
   "execution_count": 24,
   "metadata": {},
   "outputs": [],
   "source": [
    "#X_data =[]\n",
    "for file in no_values:\n",
    "    #face = misc.imread('../input/brain_tumor_dataset/yes/'+file)\n",
    "    img = cv2.imread('./brain_tumor_dataset/no/'+file)\n",
    "    face = cv2.resize(img, (32, 32) )\n",
    "    (b, g, r)=cv2.split(face) \n",
    "    img=cv2.merge([r,g,b])\n",
    "    X_data.append(img)"
   ]
  },
  {
   "cell_type": "code",
   "execution_count": 25,
   "metadata": {},
   "outputs": [
    {
     "data": {
      "text/plain": [
       "True"
      ]
     },
     "execution_count": 25,
     "metadata": {},
     "output_type": "execute_result"
    }
   ],
   "source": [
    "len(X_data)==len(data)==len(data_target)"
   ]
  },
  {
   "cell_type": "code",
   "execution_count": 26,
   "metadata": {},
   "outputs": [],
   "source": [
    "X = np.squeeze(X_data)\n"
   ]
  },
  {
   "cell_type": "code",
   "execution_count": 27,
   "metadata": {},
   "outputs": [
    {
     "data": {
      "text/plain": [
       "(253, 32, 32, 3)"
      ]
     },
     "execution_count": 27,
     "metadata": {},
     "output_type": "execute_result"
    }
   ],
   "source": [
    "X.shape\n"
   ]
  },
  {
   "cell_type": "code",
   "execution_count": 28,
   "metadata": {},
   "outputs": [],
   "source": [
    "# normalize data\n",
    "X = X.astype('float32')\n",
    "X /= 255"
   ]
  },
  {
   "cell_type": "code",
   "execution_count": 29,
   "metadata": {},
   "outputs": [],
   "source": [
    "#categorical_labels = to_categorical(data_target, num_classes=2)\n"
   ]
  },
  {
   "cell_type": "code",
   "execution_count": 30,
   "metadata": {},
   "outputs": [
    {
     "data": {
      "text/plain": [
       "array([1, 1, 1, 1, 1, 1, 1, 1, 1, 1, 1, 1, 1, 1, 1, 1, 1, 1, 1, 1, 1, 1,\n",
       "       1, 1, 1, 1, 1, 1, 1, 1, 1, 1, 1, 1, 1, 1, 1, 1, 1, 1, 1, 1, 1, 1,\n",
       "       1, 1, 1, 1, 1, 1, 1, 1, 1, 1, 1, 1, 1, 1, 1, 1, 1, 1, 1, 1, 1, 1,\n",
       "       1, 1, 1, 1, 1, 1, 1, 1, 1, 1, 1, 1, 1, 1, 1, 1, 1, 1, 1, 1, 1, 1,\n",
       "       1, 1, 1, 1, 1, 1, 1, 1, 1, 1, 1, 1, 1, 1, 1, 1, 1, 1, 1, 1, 1, 1,\n",
       "       1, 1, 1, 1, 1, 1, 1, 1, 1, 1, 1, 1, 1, 1, 1, 1, 1, 1, 1, 1, 1, 1,\n",
       "       1, 1, 1, 1, 1, 1, 1, 1, 1, 1, 1, 1, 1, 1, 1, 1, 1, 1, 1, 1, 1, 1,\n",
       "       1, 0, 0, 0, 0, 0, 0, 0, 0, 0, 0, 0, 0, 0, 0, 0, 0, 0, 0, 0, 0, 0,\n",
       "       0, 0, 0, 0, 0, 0, 0, 0, 0, 0, 0, 0, 0, 0, 0, 0, 0, 0, 0, 0, 0, 0,\n",
       "       0, 0, 0, 0, 0, 0, 0, 0, 0, 0, 0, 0, 0, 0, 0, 0, 0, 0, 0, 0, 0, 0,\n",
       "       0, 0, 0, 0, 0, 0, 0, 0, 0, 0, 0, 0, 0, 0, 0, 0, 0, 0, 0, 0, 0, 0,\n",
       "       0, 0, 0, 0, 0, 0, 0, 0, 0, 0, 0])"
      ]
     },
     "execution_count": 30,
     "metadata": {},
     "output_type": "execute_result"
    }
   ],
   "source": [
    "data_target"
   ]
  },
  {
   "cell_type": "code",
   "execution_count": 31,
   "metadata": {},
   "outputs": [],
   "source": [
    "(x_train, y_train), (x_test, y_test) = (X[:190],data_target[:190]) , (X[190:] , data_target[190:])\n",
    "(x_valid , y_valid) = (x_test[:63], y_test[:63])\n",
    "#(x_test, y_test) = (x_test[63:], y_test[63:])"
   ]
  },
  {
   "cell_type": "code",
   "execution_count": 32,
   "metadata": {},
   "outputs": [
    {
     "name": "stdout",
     "output_type": "stream",
     "text": [
      "Model: \"sequential\"\n",
      "_________________________________________________________________\n",
      "Layer (type)                 Output Shape              Param #   \n",
      "=================================================================\n",
      "conv2d (Conv2D)              (None, 32, 32, 16)        3904      \n",
      "_________________________________________________________________\n",
      "max_pooling2d (MaxPooling2D) (None, 16, 16, 16)        0         \n",
      "_________________________________________________________________\n",
      "dropout (Dropout)            (None, 16, 16, 16)        0         \n",
      "_________________________________________________________________\n",
      "conv2d_1 (Conv2D)            (None, 16, 16, 16)        20752     \n",
      "_________________________________________________________________\n",
      "max_pooling2d_1 (MaxPooling2 (None, 8, 8, 16)          0         \n",
      "_________________________________________________________________\n",
      "dropout_1 (Dropout)          (None, 8, 8, 16)          0         \n",
      "_________________________________________________________________\n",
      "conv2d_2 (Conv2D)            (None, 8, 8, 36)          46692     \n",
      "_________________________________________________________________\n",
      "max_pooling2d_2 (MaxPooling2 (None, 4, 4, 36)          0         \n",
      "_________________________________________________________________\n",
      "dropout_2 (Dropout)          (None, 4, 4, 36)          0         \n",
      "_________________________________________________________________\n",
      "flatten (Flatten)            (None, 576)               0         \n",
      "_________________________________________________________________\n",
      "dense (Dense)                (None, 512)               295424    \n",
      "_________________________________________________________________\n",
      "dropout_3 (Dropout)          (None, 512)               0         \n",
      "_________________________________________________________________\n",
      "dense_1 (Dense)              (None, 1)                 513       \n",
      "=================================================================\n",
      "Total params: 367,285\n",
      "Trainable params: 367,285\n",
      "Non-trainable params: 0\n",
      "_________________________________________________________________\n"
     ]
    }
   ],
   "source": [
    "model = tf.keras.Sequential()\n",
    "\n",
    "# Must define the input shape in the first layer of the neural network\n",
    "model.add(tf.keras.layers.Conv2D(filters=16,kernel_size=9, padding='same', activation='relu', input_shape=(32,32,3))) \n",
    "model.add(tf.keras.layers.MaxPooling2D(pool_size=2))\n",
    "model.add(tf.keras.layers.Dropout(0.45))\n",
    "\n",
    "model.add(tf.keras.layers.Conv2D(filters=16,kernel_size=9,padding='same', activation='relu'))\n",
    "model.add(tf.keras.layers.MaxPooling2D(pool_size=2))\n",
    "model.add(tf.keras.layers.Dropout(0.25))\n",
    "\n",
    "model.add(tf.keras.layers.Conv2D(filters=36, kernel_size=9, padding='same', activation='relu'))\n",
    "model.add(tf.keras.layers.MaxPooling2D(pool_size=2))\n",
    "model.add(tf.keras.layers.Dropout(0.25))\n",
    "\n",
    "model.add(tf.keras.layers.Flatten())\n",
    "\n",
    "model.add(tf.keras.layers.Dense(512, activation='relu'))\n",
    "model.add(tf.keras.layers.Dropout(0.15))\n",
    "\n",
    "\n",
    "model.add(tf.keras.layers.Dense(1, activation='sigmoid'))\n",
    "\n",
    "# Take a look at the model summary\n",
    "model.summary()"
   ]
  },
  {
   "cell_type": "code",
   "execution_count": 33,
   "metadata": {},
   "outputs": [],
   "source": [
    "model.compile(loss='binary_crossentropy',\n",
    "             optimizer=tf.keras.optimizers.Adam(),\n",
    "             metrics=['acc'])"
   ]
  },
  {
   "cell_type": "code",
   "execution_count": 34,
   "metadata": {},
   "outputs": [
    {
     "name": "stdout",
     "output_type": "stream",
     "text": [
      "Train on 190 samples, validate on 63 samples\n",
      "Epoch 1/150\n",
      "190/190 [==============================] - 1s 6ms/sample - loss: 0.6228 - acc: 0.5684 - val_loss: 1.2074 - val_acc: 0.0000e+00\n",
      "Epoch 2/150\n",
      "190/190 [==============================] - 0s 1ms/sample - loss: 0.4586 - acc: 0.8158 - val_loss: 0.8810 - val_acc: 0.0000e+00\n",
      "Epoch 3/150\n",
      "190/190 [==============================] - 0s 2ms/sample - loss: 0.4868 - acc: 0.8158 - val_loss: 1.1353 - val_acc: 0.0000e+00\n",
      "Epoch 4/150\n",
      "190/190 [==============================] - 0s 1ms/sample - loss: 0.4603 - acc: 0.8158 - val_loss: 1.2519 - val_acc: 0.0000e+00\n",
      "Epoch 5/150\n",
      "190/190 [==============================] - 0s 2ms/sample - loss: 0.4687 - acc: 0.8158 - val_loss: 0.9988 - val_acc: 0.0000e+00\n",
      "Epoch 6/150\n",
      "190/190 [==============================] - 0s 1ms/sample - loss: 0.4546 - acc: 0.8158 - val_loss: 1.0158 - val_acc: 0.0000e+00\n",
      "Epoch 7/150\n",
      "190/190 [==============================] - 0s 1ms/sample - loss: 0.4547 - acc: 0.8158 - val_loss: 1.1224 - val_acc: 0.0000e+00\n",
      "Epoch 8/150\n",
      "190/190 [==============================] - 0s 1ms/sample - loss: 0.4528 - acc: 0.8158 - val_loss: 1.0577 - val_acc: 0.0000e+00\n",
      "Epoch 9/150\n",
      "190/190 [==============================] - 0s 2ms/sample - loss: 0.4495 - acc: 0.8158 - val_loss: 0.9439 - val_acc: 0.0000e+00\n",
      "Epoch 10/150\n",
      "190/190 [==============================] - 0s 2ms/sample - loss: 0.4549 - acc: 0.8158 - val_loss: 0.9990 - val_acc: 0.0000e+00\n",
      "Epoch 11/150\n",
      "190/190 [==============================] - 0s 2ms/sample - loss: 0.4304 - acc: 0.8158 - val_loss: 0.9819 - val_acc: 0.0000e+00\n",
      "Epoch 12/150\n",
      "190/190 [==============================] - 0s 2ms/sample - loss: 0.4288 - acc: 0.8158 - val_loss: 1.0288 - val_acc: 0.0000e+00\n",
      "Epoch 13/150\n",
      "190/190 [==============================] - 0s 2ms/sample - loss: 0.4519 - acc: 0.8158 - val_loss: 0.9732 - val_acc: 0.0000e+00\n",
      "Epoch 14/150\n",
      "190/190 [==============================] - 0s 2ms/sample - loss: 0.4246 - acc: 0.8158 - val_loss: 0.8259 - val_acc: 0.0000e+00\n",
      "Epoch 15/150\n",
      "190/190 [==============================] - 0s 2ms/sample - loss: 0.4336 - acc: 0.8158 - val_loss: 0.9400 - val_acc: 0.0000e+00\n",
      "Epoch 16/150\n",
      "190/190 [==============================] - 0s 1ms/sample - loss: 0.4175 - acc: 0.8158 - val_loss: 1.0603 - val_acc: 0.0000e+00\n",
      "Epoch 17/150\n",
      "190/190 [==============================] - 0s 1ms/sample - loss: 0.4142 - acc: 0.8158 - val_loss: 0.8662 - val_acc: 0.0000e+00\n",
      "Epoch 18/150\n",
      "190/190 [==============================] - 0s 2ms/sample - loss: 0.4199 - acc: 0.8158 - val_loss: 0.8433 - val_acc: 0.0000e+00\n",
      "Epoch 19/150\n",
      "190/190 [==============================] - 0s 2ms/sample - loss: 0.4134 - acc: 0.8158 - val_loss: 1.1058 - val_acc: 0.0000e+00\n",
      "Epoch 20/150\n",
      "190/190 [==============================] - 0s 2ms/sample - loss: 0.4323 - acc: 0.8158 - val_loss: 1.0807 - val_acc: 0.0000e+00\n",
      "Epoch 21/150\n",
      "190/190 [==============================] - 0s 2ms/sample - loss: 0.4121 - acc: 0.8158 - val_loss: 0.8365 - val_acc: 0.1429\n",
      "Epoch 22/150\n",
      "190/190 [==============================] - 0s 2ms/sample - loss: 0.4128 - acc: 0.8211 - val_loss: 0.8585 - val_acc: 0.1587\n",
      "Epoch 23/150\n",
      "190/190 [==============================] - 0s 2ms/sample - loss: 0.3943 - acc: 0.8263 - val_loss: 1.0686 - val_acc: 0.1111\n",
      "Epoch 24/150\n",
      "190/190 [==============================] - 0s 1ms/sample - loss: 0.3975 - acc: 0.8211 - val_loss: 1.1952 - val_acc: 0.1270\n",
      "Epoch 25/150\n",
      "190/190 [==============================] - 0s 2ms/sample - loss: 0.4070 - acc: 0.8316 - val_loss: 1.0180 - val_acc: 0.1746\n",
      "Epoch 26/150\n",
      "190/190 [==============================] - 0s 2ms/sample - loss: 0.3820 - acc: 0.8474 - val_loss: 0.8486 - val_acc: 0.4286\n",
      "Epoch 27/150\n",
      "190/190 [==============================] - 0s 2ms/sample - loss: 0.3982 - acc: 0.8421 - val_loss: 0.9509 - val_acc: 0.3651\n",
      "Epoch 28/150\n",
      "190/190 [==============================] - 0s 1ms/sample - loss: 0.3773 - acc: 0.8421 - val_loss: 1.2002 - val_acc: 0.2381\n",
      "Epoch 29/150\n",
      "190/190 [==============================] - 0s 2ms/sample - loss: 0.3782 - acc: 0.8421 - val_loss: 1.0355 - val_acc: 0.4286\n",
      "Epoch 30/150\n",
      "190/190 [==============================] - 0s 1ms/sample - loss: 0.3722 - acc: 0.8474 - val_loss: 0.8554 - val_acc: 0.5556\n",
      "Epoch 31/150\n",
      "190/190 [==============================] - 0s 2ms/sample - loss: 0.3825 - acc: 0.8526 - val_loss: 1.0344 - val_acc: 0.5238\n",
      "Epoch 32/150\n",
      "190/190 [==============================] - 0s 2ms/sample - loss: 0.3527 - acc: 0.8684 - val_loss: 1.3220 - val_acc: 0.3333\n",
      "Epoch 33/150\n",
      "190/190 [==============================] - 0s 1ms/sample - loss: 0.3704 - acc: 0.8684 - val_loss: 1.2644 - val_acc: 0.3651\n",
      "Epoch 34/150\n",
      "190/190 [==============================] - 0s 2ms/sample - loss: 0.3397 - acc: 0.8632 - val_loss: 1.0257 - val_acc: 0.5556\n",
      "Epoch 35/150\n",
      "190/190 [==============================] - 0s 1ms/sample - loss: 0.3625 - acc: 0.8579 - val_loss: 0.9470 - val_acc: 0.5556\n",
      "Epoch 36/150\n",
      "190/190 [==============================] - 0s 2ms/sample - loss: 0.3541 - acc: 0.8737 - val_loss: 1.2672 - val_acc: 0.4444\n",
      "Epoch 37/150\n",
      "190/190 [==============================] - 0s 2ms/sample - loss: 0.3313 - acc: 0.8526 - val_loss: 1.3298 - val_acc: 0.4444\n",
      "Epoch 38/150\n",
      "190/190 [==============================] - 0s 2ms/sample - loss: 0.3285 - acc: 0.8737 - val_loss: 0.9897 - val_acc: 0.5556\n",
      "Epoch 39/150\n",
      "190/190 [==============================] - 0s 2ms/sample - loss: 0.3211 - acc: 0.8684 - val_loss: 0.8965 - val_acc: 0.5556\n",
      "Epoch 40/150\n",
      "190/190 [==============================] - 0s 2ms/sample - loss: 0.3305 - acc: 0.8579 - val_loss: 1.2931 - val_acc: 0.4762\n",
      "Epoch 41/150\n",
      "190/190 [==============================] - 0s 2ms/sample - loss: 0.3159 - acc: 0.8789 - val_loss: 1.5551 - val_acc: 0.3333\n",
      "Epoch 42/150\n",
      "190/190 [==============================] - 0s 2ms/sample - loss: 0.3249 - acc: 0.8684 - val_loss: 1.1799 - val_acc: 0.5556\n",
      "Epoch 43/150\n",
      "190/190 [==============================] - 0s 2ms/sample - loss: 0.2934 - acc: 0.8737 - val_loss: 0.8697 - val_acc: 0.5714\n",
      "Epoch 44/150\n",
      "190/190 [==============================] - 0s 2ms/sample - loss: 0.3352 - acc: 0.8526 - val_loss: 1.1495 - val_acc: 0.5556\n",
      "Epoch 45/150\n",
      "190/190 [==============================] - 0s 2ms/sample - loss: 0.3000 - acc: 0.8789 - val_loss: 1.5951 - val_acc: 0.3651\n",
      "Epoch 46/150\n",
      "190/190 [==============================] - 0s 1ms/sample - loss: 0.3135 - acc: 0.8789 - val_loss: 1.2459 - val_acc: 0.5556\n",
      "Epoch 47/150\n",
      "190/190 [==============================] - 0s 2ms/sample - loss: 0.2730 - acc: 0.8737 - val_loss: 0.9730 - val_acc: 0.5714\n",
      "Epoch 48/150\n",
      "190/190 [==============================] - 0s 2ms/sample - loss: 0.2702 - acc: 0.9105 - val_loss: 1.4173 - val_acc: 0.4286\n",
      "Epoch 49/150\n",
      "190/190 [==============================] - 0s 2ms/sample - loss: 0.2671 - acc: 0.8737 - val_loss: 1.6438 - val_acc: 0.3651\n",
      "Epoch 50/150\n",
      "190/190 [==============================] - 0s 2ms/sample - loss: 0.2776 - acc: 0.8684 - val_loss: 1.1646 - val_acc: 0.5556\n",
      "Epoch 51/150\n",
      "190/190 [==============================] - 0s 2ms/sample - loss: 0.2628 - acc: 0.8895 - val_loss: 1.1759 - val_acc: 0.5714\n",
      "Epoch 52/150\n",
      "190/190 [==============================] - 0s 2ms/sample - loss: 0.2416 - acc: 0.9000 - val_loss: 1.5649 - val_acc: 0.3651\n",
      "Epoch 53/150\n",
      "190/190 [==============================] - 0s 2ms/sample - loss: 0.2614 - acc: 0.8947 - val_loss: 1.4238 - val_acc: 0.4444\n",
      "Epoch 54/150\n",
      "190/190 [==============================] - 0s 2ms/sample - loss: 0.2227 - acc: 0.9105 - val_loss: 0.9832 - val_acc: 0.6825\n",
      "Epoch 55/150\n",
      "190/190 [==============================] - 0s 2ms/sample - loss: 0.2456 - acc: 0.8895 - val_loss: 1.3280 - val_acc: 0.6032\n",
      "Epoch 56/150\n",
      "190/190 [==============================] - 0s 2ms/sample - loss: 0.2277 - acc: 0.9263 - val_loss: 1.4937 - val_acc: 0.4921\n",
      "Epoch 57/150\n",
      "190/190 [==============================] - 0s 2ms/sample - loss: 0.2408 - acc: 0.8895 - val_loss: 1.1014 - val_acc: 0.6984\n",
      "Epoch 58/150\n",
      "190/190 [==============================] - 0s 2ms/sample - loss: 0.2073 - acc: 0.9211 - val_loss: 1.1205 - val_acc: 0.6984\n",
      "Epoch 59/150\n",
      "190/190 [==============================] - 0s 2ms/sample - loss: 0.2156 - acc: 0.9158 - val_loss: 1.5794 - val_acc: 0.4603\n",
      "Epoch 60/150\n",
      "190/190 [==============================] - 0s 2ms/sample - loss: 0.1940 - acc: 0.9211 - val_loss: 1.6141 - val_acc: 0.4603\n",
      "Epoch 61/150\n",
      "190/190 [==============================] - 0s 1ms/sample - loss: 0.1960 - acc: 0.9158 - val_loss: 1.1268 - val_acc: 0.7143\n",
      "Epoch 62/150\n",
      "190/190 [==============================] - 0s 1ms/sample - loss: 0.1860 - acc: 0.9316 - val_loss: 1.7031 - val_acc: 0.4921\n",
      "Epoch 63/150\n",
      "190/190 [==============================] - 0s 1ms/sample - loss: 0.1707 - acc: 0.9263 - val_loss: 1.7671 - val_acc: 0.4921\n",
      "Epoch 64/150\n",
      "190/190 [==============================] - 0s 2ms/sample - loss: 0.1653 - acc: 0.9316 - val_loss: 1.0828 - val_acc: 0.7302\n",
      "Epoch 65/150\n",
      "190/190 [==============================] - 0s 2ms/sample - loss: 0.2024 - acc: 0.9316 - val_loss: 1.6830 - val_acc: 0.5397\n",
      "Epoch 66/150\n",
      "190/190 [==============================] - 0s 2ms/sample - loss: 0.1710 - acc: 0.9211 - val_loss: 1.5173 - val_acc: 0.6349\n",
      "Epoch 67/150\n",
      "190/190 [==============================] - 0s 2ms/sample - loss: 0.1467 - acc: 0.9579 - val_loss: 1.5618 - val_acc: 0.6508\n",
      "Epoch 68/150\n",
      "190/190 [==============================] - 0s 2ms/sample - loss: 0.1703 - acc: 0.9316 - val_loss: 1.3506 - val_acc: 0.6984\n",
      "Epoch 69/150\n",
      "190/190 [==============================] - 0s 2ms/sample - loss: 0.1297 - acc: 0.9474 - val_loss: 1.3255 - val_acc: 0.6984\n",
      "Epoch 70/150\n",
      "190/190 [==============================] - 0s 1ms/sample - loss: 0.1316 - acc: 0.9526 - val_loss: 1.8833 - val_acc: 0.5238\n",
      "Epoch 71/150\n",
      "190/190 [==============================] - 0s 2ms/sample - loss: 0.1341 - acc: 0.9316 - val_loss: 1.5970 - val_acc: 0.6508\n",
      "Epoch 72/150\n",
      "190/190 [==============================] - 0s 2ms/sample - loss: 0.1012 - acc: 0.9579 - val_loss: 1.3175 - val_acc: 0.7302\n",
      "Epoch 73/150\n",
      "190/190 [==============================] - 0s 2ms/sample - loss: 0.1213 - acc: 0.9474 - val_loss: 2.3083 - val_acc: 0.5397\n",
      "Epoch 74/150\n",
      "190/190 [==============================] - 0s 2ms/sample - loss: 0.1354 - acc: 0.9579 - val_loss: 1.5991 - val_acc: 0.6984\n",
      "Epoch 75/150\n",
      "190/190 [==============================] - 0s 2ms/sample - loss: 0.1016 - acc: 0.9632 - val_loss: 1.7223 - val_acc: 0.6667\n",
      "Epoch 76/150\n",
      "190/190 [==============================] - 0s 2ms/sample - loss: 0.0899 - acc: 0.9474 - val_loss: 1.6692 - val_acc: 0.6984\n",
      "Epoch 77/150\n",
      "190/190 [==============================] - 0s 1ms/sample - loss: 0.0975 - acc: 0.9526 - val_loss: 1.4099 - val_acc: 0.7302\n",
      "Epoch 78/150\n",
      "190/190 [==============================] - 0s 2ms/sample - loss: 0.0789 - acc: 0.9789 - val_loss: 1.9408 - val_acc: 0.6667\n",
      "Epoch 79/150\n",
      "190/190 [==============================] - 0s 2ms/sample - loss: 0.0837 - acc: 0.9579 - val_loss: 2.2487 - val_acc: 0.5556\n",
      "Epoch 80/150\n",
      "190/190 [==============================] - 0s 1ms/sample - loss: 0.0982 - acc: 0.9632 - val_loss: 1.7670 - val_acc: 0.7143\n",
      "Epoch 81/150\n",
      "190/190 [==============================] - 0s 2ms/sample - loss: 0.0835 - acc: 0.9737 - val_loss: 1.7940 - val_acc: 0.7143\n",
      "Epoch 82/150\n",
      "190/190 [==============================] - 0s 2ms/sample - loss: 0.0769 - acc: 0.9684 - val_loss: 1.8586 - val_acc: 0.7143\n",
      "Epoch 83/150\n",
      "190/190 [==============================] - 0s 2ms/sample - loss: 0.0750 - acc: 0.9789 - val_loss: 1.4535 - val_acc: 0.7619\n",
      "Epoch 84/150\n",
      "190/190 [==============================] - 0s 2ms/sample - loss: 0.0920 - acc: 0.9632 - val_loss: 2.4974 - val_acc: 0.5556\n",
      "Epoch 85/150\n",
      "190/190 [==============================] - 0s 2ms/sample - loss: 0.1216 - acc: 0.9579 - val_loss: 2.1231 - val_acc: 0.6508\n",
      "Epoch 86/150\n",
      "190/190 [==============================] - 0s 1ms/sample - loss: 0.1074 - acc: 0.9737 - val_loss: 1.3474 - val_acc: 0.7619\n",
      "Epoch 87/150\n",
      "190/190 [==============================] - 0s 2ms/sample - loss: 0.1007 - acc: 0.9526 - val_loss: 2.3126 - val_acc: 0.5397\n",
      "Epoch 88/150\n",
      "190/190 [==============================] - 0s 1ms/sample - loss: 0.1143 - acc: 0.9579 - val_loss: 1.9096 - val_acc: 0.6349\n",
      "Epoch 89/150\n",
      "190/190 [==============================] - 0s 2ms/sample - loss: 0.0681 - acc: 0.9789 - val_loss: 1.1314 - val_acc: 0.7460\n",
      "Epoch 90/150\n",
      "190/190 [==============================] - 0s 1ms/sample - loss: 0.1222 - acc: 0.9579 - val_loss: 1.8519 - val_acc: 0.6190\n",
      "Epoch 91/150\n",
      "190/190 [==============================] - 0s 1ms/sample - loss: 0.0711 - acc: 0.9737 - val_loss: 2.2734 - val_acc: 0.5238\n",
      "Epoch 92/150\n",
      "190/190 [==============================] - 0s 2ms/sample - loss: 0.0818 - acc: 0.9684 - val_loss: 1.5417 - val_acc: 0.6984\n",
      "Epoch 93/150\n",
      "190/190 [==============================] - 0s 2ms/sample - loss: 0.0646 - acc: 0.9789 - val_loss: 1.8492 - val_acc: 0.6984\n",
      "Epoch 94/150\n",
      "190/190 [==============================] - 0s 2ms/sample - loss: 0.0947 - acc: 0.9632 - val_loss: 1.8502 - val_acc: 0.7143\n",
      "Epoch 95/150\n",
      "190/190 [==============================] - 0s 2ms/sample - loss: 0.0577 - acc: 0.9737 - val_loss: 1.8375 - val_acc: 0.7460\n",
      "Epoch 96/150\n",
      "190/190 [==============================] - 0s 2ms/sample - loss: 0.0639 - acc: 0.9789 - val_loss: 2.3360 - val_acc: 0.5556\n",
      "Epoch 97/150\n",
      "190/190 [==============================] - 0s 2ms/sample - loss: 0.0497 - acc: 0.9737 - val_loss: 2.2467 - val_acc: 0.5714\n",
      "Epoch 98/150\n",
      "190/190 [==============================] - 0s 1ms/sample - loss: 0.0527 - acc: 0.9789 - val_loss: 1.6394 - val_acc: 0.7460\n",
      "Epoch 99/150\n",
      "190/190 [==============================] - 0s 2ms/sample - loss: 0.0531 - acc: 0.9842 - val_loss: 1.9076 - val_acc: 0.6984\n",
      "Epoch 100/150\n",
      "190/190 [==============================] - 0s 2ms/sample - loss: 0.0556 - acc: 0.9842 - val_loss: 2.3801 - val_acc: 0.6349\n",
      "Epoch 101/150\n",
      "190/190 [==============================] - 0s 1ms/sample - loss: 0.0342 - acc: 0.9842 - val_loss: 2.4507 - val_acc: 0.6349\n",
      "Epoch 102/150\n",
      "190/190 [==============================] - 0s 2ms/sample - loss: 0.0291 - acc: 0.9947 - val_loss: 2.2122 - val_acc: 0.6984\n",
      "Epoch 103/150\n",
      "190/190 [==============================] - 0s 2ms/sample - loss: 0.0386 - acc: 0.9842 - val_loss: 2.0732 - val_acc: 0.7460\n",
      "Epoch 104/150\n",
      "190/190 [==============================] - 0s 2ms/sample - loss: 0.0375 - acc: 0.9947 - val_loss: 2.7339 - val_acc: 0.6190\n",
      "Epoch 105/150\n",
      "190/190 [==============================] - 0s 1ms/sample - loss: 0.0287 - acc: 0.9842 - val_loss: 2.5750 - val_acc: 0.6508\n",
      "Epoch 106/150\n",
      "190/190 [==============================] - 0s 2ms/sample - loss: 0.0253 - acc: 0.9947 - val_loss: 1.8571 - val_acc: 0.7619\n",
      "Epoch 107/150\n",
      "190/190 [==============================] - 0s 2ms/sample - loss: 0.0525 - acc: 0.9789 - val_loss: 2.3855 - val_acc: 0.7143\n",
      "Epoch 108/150\n",
      "190/190 [==============================] - 0s 2ms/sample - loss: 0.0359 - acc: 0.9895 - val_loss: 2.7827 - val_acc: 0.6349\n",
      "Epoch 109/150\n",
      "190/190 [==============================] - 0s 1ms/sample - loss: 0.0529 - acc: 0.9842 - val_loss: 1.9449 - val_acc: 0.7302\n",
      "Epoch 110/150\n",
      "190/190 [==============================] - 0s 2ms/sample - loss: 0.0318 - acc: 0.9947 - val_loss: 1.8145 - val_acc: 0.7619\n",
      "Epoch 111/150\n",
      "190/190 [==============================] - 0s 2ms/sample - loss: 0.0522 - acc: 0.9895 - val_loss: 2.8834 - val_acc: 0.5556\n",
      "Epoch 112/150\n",
      "190/190 [==============================] - 0s 1ms/sample - loss: 0.0868 - acc: 0.9789 - val_loss: 2.4613 - val_acc: 0.6349\n",
      "Epoch 113/150\n",
      "190/190 [==============================] - 0s 2ms/sample - loss: 0.0543 - acc: 0.9789 - val_loss: 2.0530 - val_acc: 0.7460\n",
      "Epoch 114/150\n",
      "190/190 [==============================] - 0s 2ms/sample - loss: 0.0375 - acc: 0.9947 - val_loss: 2.3899 - val_acc: 0.6508\n",
      "Epoch 115/150\n",
      "190/190 [==============================] - 0s 1ms/sample - loss: 0.0487 - acc: 0.9842 - val_loss: 2.5119 - val_acc: 0.6349\n",
      "Epoch 116/150\n",
      "190/190 [==============================] - 0s 2ms/sample - loss: 0.0368 - acc: 0.9789 - val_loss: 2.1981 - val_acc: 0.6984\n",
      "Epoch 117/150\n",
      "190/190 [==============================] - 0s 1ms/sample - loss: 0.0320 - acc: 1.0000 - val_loss: 1.9721 - val_acc: 0.7460\n",
      "Epoch 118/150\n",
      "190/190 [==============================] - 0s 2ms/sample - loss: 0.0203 - acc: 1.0000 - val_loss: 1.9585 - val_acc: 0.7460\n",
      "Epoch 119/150\n",
      "190/190 [==============================] - 0s 1ms/sample - loss: 0.0279 - acc: 0.9895 - val_loss: 2.3469 - val_acc: 0.6984\n",
      "Epoch 120/150\n"
     ]
    },
    {
     "name": "stdout",
     "output_type": "stream",
     "text": [
      "190/190 [==============================] - 0s 1ms/sample - loss: 0.0223 - acc: 0.9947 - val_loss: 2.4719 - val_acc: 0.6825\n",
      "Epoch 121/150\n",
      "190/190 [==============================] - 0s 2ms/sample - loss: 0.0265 - acc: 0.9895 - val_loss: 1.9376 - val_acc: 0.7460\n",
      "Epoch 122/150\n",
      "190/190 [==============================] - 0s 1ms/sample - loss: 0.0457 - acc: 0.9789 - val_loss: 2.1267 - val_acc: 0.7460\n",
      "Epoch 123/150\n",
      "190/190 [==============================] - 0s 1ms/sample - loss: 0.0306 - acc: 0.9895 - val_loss: 2.6032 - val_acc: 0.6349\n",
      "Epoch 124/150\n",
      "190/190 [==============================] - 0s 2ms/sample - loss: 0.0270 - acc: 0.9842 - val_loss: 2.4928 - val_acc: 0.7143\n",
      "Epoch 125/150\n",
      "190/190 [==============================] - 0s 2ms/sample - loss: 0.0270 - acc: 0.9842 - val_loss: 2.3524 - val_acc: 0.7460\n",
      "Epoch 126/150\n",
      "190/190 [==============================] - 0s 1ms/sample - loss: 0.0183 - acc: 1.0000 - val_loss: 2.5670 - val_acc: 0.6984\n",
      "Epoch 127/150\n",
      "190/190 [==============================] - 0s 2ms/sample - loss: 0.0128 - acc: 1.0000 - val_loss: 2.5985 - val_acc: 0.7143\n",
      "Epoch 128/150\n",
      "190/190 [==============================] - 0s 2ms/sample - loss: 0.0129 - acc: 0.9947 - val_loss: 2.4317 - val_acc: 0.7143\n",
      "Epoch 129/150\n",
      "190/190 [==============================] - 0s 2ms/sample - loss: 0.0119 - acc: 1.0000 - val_loss: 2.3624 - val_acc: 0.7460\n",
      "Epoch 130/150\n",
      "190/190 [==============================] - 0s 2ms/sample - loss: 0.0043 - acc: 1.0000 - val_loss: 2.3343 - val_acc: 0.7460\n",
      "Epoch 131/150\n",
      "190/190 [==============================] - 0s 2ms/sample - loss: 0.0213 - acc: 0.9947 - val_loss: 2.6608 - val_acc: 0.7143\n",
      "Epoch 132/150\n",
      "190/190 [==============================] - 0s 2ms/sample - loss: 0.0083 - acc: 1.0000 - val_loss: 3.1436 - val_acc: 0.6508\n",
      "Epoch 133/150\n",
      "190/190 [==============================] - 0s 2ms/sample - loss: 0.0156 - acc: 0.9947 - val_loss: 3.1715 - val_acc: 0.6508\n",
      "Epoch 134/150\n",
      "190/190 [==============================] - 0s 2ms/sample - loss: 0.0225 - acc: 0.9947 - val_loss: 2.7479 - val_acc: 0.7460\n",
      "Epoch 135/150\n",
      "190/190 [==============================] - 0s 2ms/sample - loss: 0.0069 - acc: 1.0000 - val_loss: 2.2994 - val_acc: 0.7619\n",
      "Epoch 136/150\n",
      "190/190 [==============================] - 0s 2ms/sample - loss: 0.0156 - acc: 0.9895 - val_loss: 2.3038 - val_acc: 0.7619\n",
      "Epoch 137/150\n",
      "190/190 [==============================] - 0s 2ms/sample - loss: 0.0124 - acc: 1.0000 - val_loss: 2.7238 - val_acc: 0.7302\n",
      "Epoch 138/150\n",
      "190/190 [==============================] - 0s 1ms/sample - loss: 0.0107 - acc: 1.0000 - val_loss: 3.1024 - val_acc: 0.6667\n",
      "Epoch 139/150\n",
      "190/190 [==============================] - 0s 2ms/sample - loss: 0.0284 - acc: 0.9947 - val_loss: 2.7351 - val_acc: 0.7143\n",
      "Epoch 140/150\n",
      "190/190 [==============================] - 0s 2ms/sample - loss: 0.0135 - acc: 0.9947 - val_loss: 2.7431 - val_acc: 0.7460\n",
      "Epoch 141/150\n",
      "190/190 [==============================] - 0s 2ms/sample - loss: 0.0172 - acc: 0.9947 - val_loss: 3.2453 - val_acc: 0.6032\n",
      "Epoch 142/150\n",
      "190/190 [==============================] - 0s 1ms/sample - loss: 0.0190 - acc: 0.9947 - val_loss: 3.3089 - val_acc: 0.6190\n",
      "Epoch 143/150\n",
      "190/190 [==============================] - 0s 2ms/sample - loss: 0.0144 - acc: 0.9947 - val_loss: 3.6572 - val_acc: 0.5873\n",
      "Epoch 144/150\n",
      "190/190 [==============================] - 0s 1ms/sample - loss: 0.0047 - acc: 1.0000 - val_loss: 4.0414 - val_acc: 0.4921\n",
      "Epoch 145/150\n",
      "190/190 [==============================] - 0s 2ms/sample - loss: 0.0201 - acc: 0.9895 - val_loss: 3.5576 - val_acc: 0.6349\n",
      "Epoch 146/150\n",
      "190/190 [==============================] - 0s 2ms/sample - loss: 0.0147 - acc: 0.9947 - val_loss: 2.8652 - val_acc: 0.6825\n",
      "Epoch 147/150\n",
      "190/190 [==============================] - 0s 2ms/sample - loss: 0.0103 - acc: 1.0000 - val_loss: 2.4936 - val_acc: 0.7143\n",
      "Epoch 148/150\n",
      "190/190 [==============================] - 0s 2ms/sample - loss: 0.0196 - acc: 0.9947 - val_loss: 3.0862 - val_acc: 0.6667\n",
      "Epoch 149/150\n",
      "190/190 [==============================] - 0s 2ms/sample - loss: 0.0320 - acc: 0.9895 - val_loss: 3.3744 - val_acc: 0.6508\n",
      "Epoch 150/150\n",
      "190/190 [==============================] - 0s 1ms/sample - loss: 0.0218 - acc: 0.9895 - val_loss: 3.2351 - val_acc: 0.6349\n"
     ]
    },
    {
     "data": {
      "text/plain": [
       "<tensorflow.python.keras.callbacks.History at 0x2a12c807b08>"
      ]
     },
     "execution_count": 34,
     "metadata": {},
     "output_type": "execute_result"
    }
   ],
   "source": [
    "model.fit(x_train,\n",
    "         y_train,\n",
    "         batch_size=128,\n",
    "         epochs=150,\n",
    "         validation_data=(x_valid, y_valid),)"
   ]
  },
  {
   "cell_type": "code",
   "execution_count": 39,
   "metadata": {},
   "outputs": [
    {
     "name": "stdout",
     "output_type": "stream",
     "text": [
      "\n",
      " Test accuracy: 0.63492066\n"
     ]
    }
   ],
   "source": [
    "# Evaluate the model on test set\n",
    "score = model.evaluate(x_test, y_test, verbose=0)\n",
    "\n",
    "# Print test accuracy\n",
    "print('\\n', 'Test accuracy:', score[1])"
   ]
  },
  {
   "cell_type": "code",
   "execution_count": 40,
   "metadata": {},
   "outputs": [],
   "source": [
    "labels =[\"Yes\",  # index 0\n",
    "        \"No\",      # index 1\n",
    "        ]"
   ]
  },
  {
   "cell_type": "code",
   "execution_count": 41,
   "metadata": {},
   "outputs": [
    {
     "data": {
      "image/png": "[encoded data removed]",
      "text/plain": [
       "<Figure size 1440x576 with 15 Axes>"
      ]
     },
     "metadata": {},
     "output_type": "display_data"
    }
   ],
   "source": [
    "y_hat = model.predict(x_test)\n",
    "\n",
    "# Plot a random sample of 10 test images, their predicted labels and ground truth\n",
    "figure = plt.figure(figsize=(20, 8))\n",
    "for i, index in enumerate(np.random.choice(x_test.shape[0], size=15, replace=False)):\n",
    "    ax = figure.add_subplot(3, 5, i + 1, xticks=[], yticks=[])\n",
    "    # Display each image\n",
    "    ax.imshow(np.squeeze(x_test[index]))\n",
    "    predict_index = np.argmax(y_hat[index])\n",
    "    true_index = np.argmax(y_test[index])\n",
    "    # Set the title for each image\n",
    "    ax.set_title(\"{} ({})\".format(labels[predict_index], \n",
    "                                  labels[true_index]),\n",
    "                                  color=(\"green\" if predict_index == true_index else \"red\"))\n",
    "plt.show()"
   ]
  },
  {
   "cell_type": "code",
   "execution_count": null,
   "metadata": {},
   "outputs": [],
   "source": []
  }
 ],
 "metadata": {
  "kernelspec": {
   "display_name": "Python 3",
   "language": "python",
   "name": "python3"
  },
  "language_info": {
   "codemirror_mode": {
    "name": "ipython",
    "version": 3
   },
   "file_extension": ".py",
   "mimetype": "text/x-python",
   "name": "python",
   "nbconvert_exporter": "python",
   "pygments_lexer": "ipython3",
   "version": "3.7.4"
  }
 },
 "nbformat": 4,
 "nbformat_minor": 1
}
